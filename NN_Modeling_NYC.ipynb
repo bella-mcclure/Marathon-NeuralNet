{
 "cells": [
  {
   "cell_type": "markdown",
   "id": "50d0bb9a",
   "metadata": {},
   "source": [
    "### Model Set Up"
   ]
  },
  {
   "cell_type": "code",
   "execution_count": 2,
   "id": "aab94da1",
   "metadata": {},
   "outputs": [],
   "source": [
    "pip install tensorflow"
   ]
  },
  {
   "cell_type": "code",
   "execution_count": 3,
   "id": "6c60aaa5",
   "metadata": {},
   "outputs": [
    {
     "name": "stdout",
     "output_type": "stream",
     "text": [
      "WARNING:tensorflow:From C:\\Users\\irm20\\anaconda3\\Lib\\site-packages\\keras\\src\\losses.py:2976: The name tf.losses.sparse_softmax_cross_entropy is deprecated. Please use tf.compat.v1.losses.sparse_softmax_cross_entropy instead.\n",
      "\n"
     ]
    }
   ],
   "source": [
    "import pandas as pd\n",
    "import matplotlib.pyplot as plt\n",
    "%matplotlib inline\n",
    "import numpy as np\n",
    "import os\n",
    "import tensorflow as tf\n",
    "import seaborn as sns\n",
    "from sklearn.linear_model import LogisticRegression\n",
    "from sklearn.linear_model import LinearRegression\n",
    "from sklearn.model_selection import train_test_split\n",
    "from sklearn.model_selection import KFold\n",
    "from sklearn import metrics\n",
    "from tensorflow.keras.layers import Dropout\n",
    "from tensorflow.keras.models import Sequential\n",
    "from tensorflow.keras.layers import Dense, Activation\n",
    "from sklearn.metrics import precision_score, recall_score, f1_score\n",
    "from sklearn.metrics import confusion_matrix\n",
    "from sklearn.metrics import accuracy_score"
   ]
  },
  {
   "cell_type": "markdown",
   "id": "3e97e2c6",
   "metadata": {},
   "source": [
    "### Model Training "
   ]
  },
  {
   "cell_type": "code",
   "execution_count": 4,
   "id": "2e8ec797",
   "metadata": {},
   "outputs": [],
   "source": [
    "d = pd.read_csv(r'C:\\Users\\irm20\\Documents\\UCONN\\Senior_Sem1\\STAT_Thesis\\NY_NN.csv')"
   ]
  },
  {
   "cell_type": "code",
   "execution_count": 5,
   "id": "603cfc6e",
   "metadata": {},
   "outputs": [],
   "source": [
    "df = d.drop('State', axis = 1)"
   ]
  },
  {
   "cell_type": "code",
   "execution_count": 6,
   "id": "1201014f",
   "metadata": {
    "scrolled": true
   },
   "outputs": [
    {
     "data": {
      "text/html": [
       "<div>\n",
       "<style scoped>\n",
       "    .dataframe tbody tr th:only-of-type {\n",
       "        vertical-align: middle;\n",
       "    }\n",
       "\n",
       "    .dataframe tbody tr th {\n",
       "        vertical-align: top;\n",
       "    }\n",
       "\n",
       "    .dataframe thead th {\n",
       "        text-align: right;\n",
       "    }\n",
       "</style>\n",
       "<table border=\"1\" class=\"dataframe\">\n",
       "  <thead>\n",
       "    <tr style=\"text-align: right;\">\n",
       "      <th></th>\n",
       "      <th>seconds</th>\n",
       "      <th>Class</th>\n",
       "    </tr>\n",
       "  </thead>\n",
       "  <tbody>\n",
       "    <tr>\n",
       "      <th>0</th>\n",
       "      <td>8613</td>\n",
       "      <td>3</td>\n",
       "    </tr>\n",
       "    <tr>\n",
       "      <th>1</th>\n",
       "      <td>8616</td>\n",
       "      <td>0</td>\n",
       "    </tr>\n",
       "    <tr>\n",
       "      <th>2</th>\n",
       "      <td>8651</td>\n",
       "      <td>0</td>\n",
       "    </tr>\n",
       "    <tr>\n",
       "      <th>3</th>\n",
       "      <td>8672</td>\n",
       "      <td>0</td>\n",
       "    </tr>\n",
       "    <tr>\n",
       "      <th>4</th>\n",
       "      <td>8726</td>\n",
       "      <td>0</td>\n",
       "    </tr>\n",
       "    <tr>\n",
       "      <th>...</th>\n",
       "      <td>...</td>\n",
       "      <td>...</td>\n",
       "    </tr>\n",
       "    <tr>\n",
       "      <th>478486</th>\n",
       "      <td>36798</td>\n",
       "      <td>1</td>\n",
       "    </tr>\n",
       "    <tr>\n",
       "      <th>478487</th>\n",
       "      <td>38322</td>\n",
       "      <td>0</td>\n",
       "    </tr>\n",
       "    <tr>\n",
       "      <th>478488</th>\n",
       "      <td>38455</td>\n",
       "      <td>0</td>\n",
       "    </tr>\n",
       "    <tr>\n",
       "      <th>478489</th>\n",
       "      <td>39048</td>\n",
       "      <td>3</td>\n",
       "    </tr>\n",
       "    <tr>\n",
       "      <th>478490</th>\n",
       "      <td>42139</td>\n",
       "      <td>1</td>\n",
       "    </tr>\n",
       "  </tbody>\n",
       "</table>\n",
       "<p>478491 rows × 2 columns</p>\n",
       "</div>"
      ],
      "text/plain": [
       "        seconds  Class\n",
       "0          8613      3\n",
       "1          8616      0\n",
       "2          8651      0\n",
       "3          8672      0\n",
       "4          8726      0\n",
       "...         ...    ...\n",
       "478486    36798      1\n",
       "478487    38322      0\n",
       "478488    38455      0\n",
       "478489    39048      3\n",
       "478490    42139      1\n",
       "\n",
       "[478491 rows x 2 columns]"
      ]
     },
     "execution_count": 6,
     "metadata": {},
     "output_type": "execute_result"
    }
   ],
   "source": [
    "#Changing class from string to integer \n",
    "df['Class'] = df['Class'].replace('North', 0)\n",
    "df['Class'] = df['Class'].replace('South', 1)\n",
    "df['Class'] = df['Class'].replace('Midwest', 2)\n",
    "df['Class'] = df['Class'].replace('West', 3)\n",
    "df"
   ]
  },
  {
   "cell_type": "code",
   "execution_count": 7,
   "id": "ad2b1599",
   "metadata": {},
   "outputs": [],
   "source": [
    "# Train, test, and split\n",
    "X = df.drop('Class', axis = 1)\n",
    "y = df['Class']"
   ]
  },
  {
   "cell_type": "code",
   "execution_count": 8,
   "id": "312b9227",
   "metadata": {},
   "outputs": [],
   "source": [
    "# convert to numpy arrays\n",
    "X = X.values\n",
    "y = y.values"
   ]
  },
  {
   "cell_type": "code",
   "execution_count": 9,
   "id": "187a5e63",
   "metadata": {},
   "outputs": [
    {
     "name": "stdout",
     "output_type": "stream",
     "text": [
      "Fold #1\n",
      "WARNING:tensorflow:From C:\\Users\\irm20\\anaconda3\\Lib\\site-packages\\keras\\src\\backend.py:873: The name tf.get_default_graph is deprecated. Please use tf.compat.v1.get_default_graph instead.\n",
      "\n",
      "WARNING:tensorflow:From C:\\Users\\irm20\\anaconda3\\Lib\\site-packages\\keras\\src\\optimizers\\__init__.py:309: The name tf.train.Optimizer is deprecated. Please use tf.compat.v1.train.Optimizer instead.\n",
      "\n",
      "WARNING:tensorflow:From C:\\Users\\irm20\\anaconda3\\Lib\\site-packages\\keras\\src\\utils\\tf_utils.py:492: The name tf.ragged.RaggedTensorValue is deprecated. Please use tf.compat.v1.ragged.RaggedTensorValue instead.\n",
      "\n",
      "WARNING:tensorflow:From C:\\Users\\irm20\\anaconda3\\Lib\\site-packages\\keras\\src\\engine\\base_layer_utils.py:384: The name tf.executing_eagerly_outside_functions is deprecated. Please use tf.compat.v1.executing_eagerly_outside_functions instead.\n",
      "\n",
      "2991/2991 [==============================] - 4s 1ms/step\n",
      "Fold score (Accuracy): 0.68605732557289\n",
      "Fold #2\n",
      "2991/2991 [==============================] - 5s 2ms/step\n",
      "Fold score (Accuracy): 0.6863779807310497\n",
      "Fold #3\n",
      "2991/2991 [==============================] - 5s 1ms/step\n",
      "Fold score (Accuracy): 0.6865660724362056\n",
      "Fold #4\n",
      "2991/2991 [==============================] - 4s 1ms/step\n",
      "Fold score (Accuracy): 0.6856256139104265\n",
      "Fold #5\n",
      "2991/2991 [==============================] - 4s 1ms/step\n",
      "Fold score (Accuracy): 0.6845493113753683\n",
      "Final out-of-sample score (Accuracy): 0.685835261269282\n"
     ]
    }
   ],
   "source": [
    "kf = KFold(5, shuffle=True, random_state = 42)\n",
    "\n",
    "oos_y = []\n",
    "oos_pred = []\n",
    "\n",
    "fold = 0\n",
    "for train, test in kf.split(X):\n",
    "    fold += 1\n",
    "    print(f'Fold #{fold}')\n",
    "    \n",
    "    X_train = X[train]\n",
    "    y_train = y[train]\n",
    "    X_test = X[test]\n",
    "    y_test = y[test]\n",
    "    \n",
    "    model = Sequential()\n",
    "    model.add(Dense(20, input_dim = X.shape[1], activation = 'softmax'))\n",
    "    model.add(Dense(10, activation = 'softmax'))\n",
    "    model.add(Dense(4, activation = 'softmax'))\n",
    "    model.compile(loss = 'categorical_crossentropy', optimizer = 'adam', metrics = ['accuracy'])\n",
    "    \n",
    "    y_train_one_hot = tf.keras.utils.to_categorical(y_train, num_classes=4)\n",
    "    y_test_one_hot = tf.keras.utils.to_categorical(y_test, num_classes=4)\n",
    "    \n",
    "    model.fit(X_train, y_train_one_hot, validation_data=(X_test,y_test_one_hot), verbose=0, epochs = 10)\n",
    "    \n",
    "    pred = model.predict(X_test)\n",
    "    \n",
    "    oos_y.append(y_test)\n",
    "    oos_pred.append(pred)\n",
    "    \n",
    "\n",
    "    pred_classes = np.argmax(pred, axis=1)\n",
    "    \n",
    "    score = accuracy_score(y_test, pred_classes)\n",
    "    print(f'Fold score (Accuracy): {score}')\n",
    "\n",
    "oos_y = np.concatenate(oos_y)\n",
    "oos_pred = np.concatenate(oos_pred)\n",
    "\n",
    "oos_pred_classes = np.argmax(oos_pred, axis=1)\n",
    "\n",
    "\n",
    "score = accuracy_score(oos_y, oos_pred_classes)\n",
    "print(f'Final out-of-sample score (Accuracy): {score}')\n",
    "\n",
    "oos_y = pd.DataFrame(oos_y)\n",
    "oos_pred = pd.DataFrame(oos_pred)\n",
    "oos_DF = pd.concat([df, oos_y, oos_pred], axis=1)"
   ]
  },
  {
   "cell_type": "code",
   "execution_count": 16,
   "id": "75dc553d",
   "metadata": {},
   "outputs": [
    {
     "name": "stdout",
     "output_type": "stream",
     "text": [
      "Fold #1\n",
      "2991/2991 [==============================] - 12s 4ms/step\n",
      "Fold score (Accuracy): 0.13518427569776068\n",
      "Fold #2\n",
      "2991/2991 [==============================] - 13s 4ms/step\n",
      "Fold score (Accuracy): 0.07383644381282785\n",
      "Fold #3\n",
      "2991/2991 [==============================] - 12s 4ms/step\n",
      "Fold score (Accuracy): 0.07279148989529562\n",
      "Fold #4\n",
      "2991/2991 [==============================] - 12s 4ms/step\n",
      "Fold score (Accuracy): 0.07305272837467867\n",
      "Fold #5\n",
      "2991/2991 [==============================] - 12s 4ms/step\n",
      "Fold score (Accuracy): 0.10728541871303475\n",
      "Final out-of-sample score (Accuracy): 0.09243016065087954\n"
     ]
    }
   ],
   "source": [
    "# with individual class weights \n",
    "from sklearn.utils.class_weight import compute_class_weight\n",
    "\n",
    "kf = KFold(5, shuffle=True, random_state=1)\n",
    "\n",
    "oos_y = []\n",
    "oos_pred = []\n",
    "\n",
    "fold = 0\n",
    "for train, test in kf.split(X):\n",
    "    fold += 1\n",
    "    print(f'Fold #{fold}')\n",
    "\n",
    "    X_train = X[train]\n",
    "    y_train = y[train]\n",
    "    X_test = X[test]\n",
    "    y_test = y[test]\n",
    "\n",
    "    # Calculate class weights\n",
    "    class_weights = compute_class_weight('balanced', classes=np.unique(y_train), y=y_train)\n",
    "    class_weights_dict = dict(enumerate(class_weights))\n",
    "\n",
    "    model = Sequential()\n",
    "    model.add(Dense(50, input_dim=X.shape[1], activation='softmax'))\n",
    "    model.add(Dense(4, activation='softmax'))\n",
    "    model.compile(loss='categorical_crossentropy', optimizer='adam', metrics=['accuracy'])\n",
    "\n",
    "    y_train_one_hot = tf.keras.utils.to_categorical(y_train, num_classes=4)\n",
    "    y_test_one_hot = tf.keras.utils.to_categorical(y_test, num_classes=4)\n",
    "\n",
    "    # Training the model with class weights\n",
    "    model.fit(X_train, y_train_one_hot, validation_data=(X_test, y_test_one_hot),\n",
    "              class_weight=class_weights_dict, verbose=0, epochs=10)\n",
    "\n",
    "    pred = model.predict(X_test)\n",
    "\n",
    "    oos_y.append(y_test)\n",
    "    oos_pred.append(pred)\n",
    "\n",
    "    pred_classes = np.argmax(pred, axis=1)\n",
    "\n",
    "    score = accuracy_score(y_test, pred_classes)\n",
    "    print(f'Fold score (Accuracy): {score}')\n",
    "\n",
    "oos_y = np.concatenate(oos_y)\n",
    "oos_pred = np.concatenate(oos_pred)\n",
    "\n",
    "oos_pred_classes = np.argmax(oos_pred, axis=1)\n",
    "\n",
    "score = accuracy_score(oos_y, oos_pred_classes)\n",
    "print(f'Final out-of-sample score (Accuracy): {score}')\n",
    "\n",
    "oos_y = pd.DataFrame(oos_y)\n",
    "oos_pred = pd.DataFrame(oos_pred)\n",
    "oos_DF = pd.concat([df, oos_y, oos_pred], axis=1)"
   ]
  },
  {
   "cell_type": "code",
   "execution_count": 7,
   "id": "060402b2",
   "metadata": {},
   "outputs": [
    {
     "name": "stdout",
     "output_type": "stream",
     "text": [
      "2991/2991 [==============================] - 8s 3ms/step\n"
     ]
    },
    {
     "data": {
      "text/plain": [
       "0.68605732557289"
      ]
     },
     "execution_count": 7,
     "metadata": {},
     "output_type": "execute_result"
    }
   ],
   "source": [
    "# Logistic regression as baseline comparision to neural network \n",
    "lr = LogisticRegression(multi_class='multinomial', solver='lbfgs')\n",
    "lr.fit(X_train, y_train)\n",
    "y_pred = model.predict(X_test)\n",
    "lr.score(X_test,y_test)"
   ]
  }
 ],
 "metadata": {
  "kernelspec": {
   "display_name": "Python 3 (ipykernel)",
   "language": "python",
   "name": "python3"
  },
  "language_info": {
   "codemirror_mode": {
    "name": "ipython",
    "version": 3
   },
   "file_extension": ".py",
   "mimetype": "text/x-python",
   "name": "python",
   "nbconvert_exporter": "python",
   "pygments_lexer": "ipython3",
   "version": "3.11.5"
  }
 },
 "nbformat": 4,
 "nbformat_minor": 5
}
